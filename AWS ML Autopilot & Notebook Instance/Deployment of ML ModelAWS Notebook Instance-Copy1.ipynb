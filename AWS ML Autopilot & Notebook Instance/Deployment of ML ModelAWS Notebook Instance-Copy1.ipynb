{
 "cells": [
  {
   "cell_type": "markdown",
   "id": "matched-champion",
   "metadata": {},
   "source": [
    "# Importing Important liabraries:\n",
    "\n",
    "Steps:\n",
    " - Import Libraries.\n",
    " - Create S3 Bucket.\n",
    " - mapping train and test data in S3.\n",
    " - Mapping the path of the models  in S3."
   ]
  },
  {
   "cell_type": "code",
   "execution_count": 1,
   "id": "complex-three",
   "metadata": {},
   "outputs": [],
   "source": [
    "import sagemaker\n",
    "import boto3\n",
    "from sagemaker.amazon.amazon_estimator import get_image_uri\n",
    "from sagemaker.session import s3_input, Session"
   ]
  },
  {
   "cell_type": "code",
   "execution_count": 2,
   "id": "chubby-circuit",
   "metadata": {},
   "outputs": [
    {
     "name": "stdout",
     "output_type": "stream",
     "text": [
      "us-east-1\n"
     ]
    }
   ],
   "source": [
    "bucket_name = 'chrn'\n",
    "my_region = boto3.session.Session().region_name\n",
    "print(my_region)"
   ]
  },
  {
   "cell_type": "code",
   "execution_count": 3,
   "id": "precious-dating",
   "metadata": {},
   "outputs": [
    {
     "name": "stdout",
     "output_type": "stream",
     "text": [
      "S3 Bucket Created Successfully\n"
     ]
    }
   ],
   "source": [
    "s3 = boto3.resource('s3')\n",
    "try: \n",
    "    if my_region == 'us-east-1':\n",
    "        s3.create_bucket(Bucket= bucket_name)\n",
    "    print('S3 Bucket Created Successfully')\n",
    "except Exception as e:\n",
    "    print('S3 Error', e)"
   ]
  },
  {
   "cell_type": "code",
   "execution_count": 4,
   "id": "dependent-tanzania",
   "metadata": {},
   "outputs": [
    {
     "name": "stdout",
     "output_type": "stream",
     "text": [
      "s3://chrn/xgboost-as-an-bulit-in-algo/output\n"
     ]
    }
   ],
   "source": [
    "# Set an output path to save my model in the s3 bucket:\n",
    "prefix = 'xgboost-as-an-bulit-in-algo'\n",
    "output_path = 's3://{}/{}/output'.format(bucket_name, prefix)\n",
    "print(output_path)"
   ]
  },
  {
   "cell_type": "markdown",
   "id": "excess-night",
   "metadata": {},
   "source": [
    "# Downloading Dataset and storing it in s3:"
   ]
  },
  {
   "cell_type": "code",
   "execution_count": 5,
   "id": "compound-controversy",
   "metadata": {},
   "outputs": [],
   "source": [
    "import pandas as pd\n",
    "model_data = pd.read_csv('churndata.csv', index_col=0)"
   ]
  },
  {
   "cell_type": "code",
   "execution_count": 6,
   "id": "patent-nicaragua",
   "metadata": {},
   "outputs": [],
   "source": [
    "model_data = model_data.dropna()"
   ]
  },
  {
   "cell_type": "code",
   "execution_count": 7,
   "id": "packed-occupation",
   "metadata": {},
   "outputs": [
    {
     "data": {
      "text/plain": [
       "churned                                  0\n",
       "age                                      0\n",
       "gender                                   0\n",
       "loyalty_level                            0\n",
       "how_long_a_customer                      0\n",
       "how_far_away                             0\n",
       "feel_valued_as_customer                  0\n",
       "get_often_inspiration                    0\n",
       "good_product_overview                    0\n",
       "pick_up_flexibility                      0\n",
       "fair_prices                              0\n",
       "looking_forward_to_the_next_12_months    0\n",
       "see_improvements_recently                0\n",
       "informed_about_new_products              0\n",
       "find_productst_i_want                    0\n",
       "i_enjoy_buying                           0\n",
       "dtype: int64"
      ]
     },
     "execution_count": 7,
     "metadata": {},
     "output_type": "execute_result"
    }
   ],
   "source": [
    "model_data.isna().sum()"
   ]
  },
  {
   "cell_type": "code",
   "execution_count": 8,
   "id": "known-shield",
   "metadata": {},
   "outputs": [
    {
     "data": {
      "text/plain": [
       "Index(['churned', 'age', 'gender', 'loyalty_level', 'how_long_a_customer',\n",
       "       'how_far_away', 'feel_valued_as_customer', 'get_often_inspiration',\n",
       "       'good_product_overview', 'pick_up_flexibility', 'fair_prices',\n",
       "       'looking_forward_to_the_next_12_months', 'see_improvements_recently',\n",
       "       'informed_about_new_products', 'find_productst_i_want',\n",
       "       'i_enjoy_buying'],\n",
       "      dtype='object')"
      ]
     },
     "execution_count": 8,
     "metadata": {},
     "output_type": "execute_result"
    }
   ],
   "source": [
    "model_data.columns"
   ]
  },
  {
   "cell_type": "code",
   "execution_count": 9,
   "id": "universal-porter",
   "metadata": {},
   "outputs": [
    {
     "name": "stdout",
     "output_type": "stream",
     "text": [
      "(5224, 16) (2239, 16)\n"
     ]
    }
   ],
   "source": [
    "# Train Test Split:\n",
    "import numpy as np \n",
    "train_data, test_data = np.split(model_data.sample(frac=1, random_state = 1729),[int(0.7*len(model_data))])\n",
    "print(train_data.shape, test_data.shape)"
   ]
  },
  {
   "cell_type": "code",
   "execution_count": 10,
   "id": "overall-perfume",
   "metadata": {},
   "outputs": [],
   "source": [
    "# Saving Training and Testing datasets in S3:\n",
    "\n",
    "import os\n",
    "train_data = pd.DataFrame(train_data)\n",
    "train_data= train_data.to_csv('train.csv', index=False, header=False)\n",
    "boto3.Session().resource('s3').Bucket(bucket_name).Object(os.path.join(prefix, 'train/train.csv')).upload_file('train.csv')\n",
    "s3_input_train = sagemaker.TrainingInput(s3_data='s3://{}/{}/train'.format(bucket_name,prefix), content_type='csv')"
   ]
  },
  {
   "cell_type": "code",
   "execution_count": 11,
   "id": "formal-scheme",
   "metadata": {},
   "outputs": [],
   "source": [
    "test_data = pd.DataFrame(test_data)\n",
    "test_data= test_data.to_csv('test.csv', index=False, header=False)\n",
    "boto3.Session().resource('s3').Bucket(bucket_name).Object(os.path.join(prefix, 'test/test.csv')).upload_file('test.csv')\n",
    "s3_input_test = sagemaker.TrainingInput(s3_data='s3://{}/{}/test'.format(bucket_name,prefix), content_type='csv')"
   ]
  },
  {
   "cell_type": "markdown",
   "id": "vital-rally",
   "metadata": {},
   "source": [
    "# Model Building XGBoost:"
   ]
  },
  {
   "cell_type": "code",
   "execution_count": 13,
   "id": "speaking-speaker",
   "metadata": {},
   "outputs": [
    {
     "name": "stderr",
     "output_type": "stream",
     "text": [
      "The method get_image_uri has been renamed in sagemaker>=2.\n",
      "See: https://sagemaker.readthedocs.io/en/stable/v2.html for details.\n"
     ]
    }
   ],
   "source": [
    "container = get_image_uri(boto3.Session().region_name,'xgboost',repo_version= '1.0-1')"
   ]
  },
  {
   "cell_type": "code",
   "execution_count": 24,
   "id": "impossible-search",
   "metadata": {},
   "outputs": [],
   "source": [
    "# Hyperparameter Tuning:\n",
    "hyperparameters = {\n",
    "        \"max_depth\":\"5\",\n",
    "        \"eta\":\"0.2\",\n",
    "        \"gamma\":\"4\",\n",
    "        \"min_child_weight\":\"6\",\n",
    "        \"subsample\":\"0.7\",\n",
    "        \"objective\":\"binary:logistic\",\n",
    "        \"num_round\":50\n",
    "        }"
   ]
  },
  {
   "cell_type": "code",
   "execution_count": 25,
   "id": "variable-wallpaper",
   "metadata": {},
   "outputs": [
    {
     "name": "stderr",
     "output_type": "stream",
     "text": [
      "train_instance_count has been renamed in sagemaker>=2.\n",
      "See: https://sagemaker.readthedocs.io/en/stable/v2.html for details.\n",
      "train_instance_type has been renamed in sagemaker>=2.\n",
      "See: https://sagemaker.readthedocs.io/en/stable/v2.html for details.\n",
      "train_max_run has been renamed in sagemaker>=2.\n",
      "See: https://sagemaker.readthedocs.io/en/stable/v2.html for details.\n",
      "train_use_spot_instances has been renamed in sagemaker>=2.\n",
      "See: https://sagemaker.readthedocs.io/en/stable/v2.html for details.\n",
      "train_max_wait has been renamed in sagemaker>=2.\n",
      "See: https://sagemaker.readthedocs.io/en/stable/v2.html for details.\n",
      "train_volume_size has been renamed in sagemaker>=2.\n",
      "See: https://sagemaker.readthedocs.io/en/stable/v2.html for details.\n"
     ]
    }
   ],
   "source": [
    "# Construction of Sagemaker estimator that will call xgboost-container:\n",
    "estimator = sagemaker.estimator.Estimator(image_uri=container, \n",
    "                                          hyperparameters=hyperparameters,\n",
    "                                          role=sagemaker.get_execution_role(),\n",
    "                                          train_instance_count=1, \n",
    "                                          train_instance_type='ml.m5.2xlarge', \n",
    "                                          train_volume_size=5, # 5 GB \n",
    "                                          output_path=output_path,\n",
    "                                          train_use_spot_instances=True,\n",
    "                                          train_max_run=300,\n",
    "                                          train_max_wait=600\n",
    "                                         )"
   ]
  },
  {
   "cell_type": "code",
   "execution_count": 26,
   "id": "reported-purchase",
   "metadata": {},
   "outputs": [
    {
     "name": "stdout",
     "output_type": "stream",
     "text": [
      "2021-02-18 22:32:27 Starting - Starting the training job...\n",
      "2021-02-18 22:32:51 Starting - Launching requested ML instancesProfilerReport-1613687547: InProgress\n",
      "......\n",
      "2021-02-18 22:33:51 Starting - Preparing the instances for training...\n",
      "2021-02-18 22:34:27 Downloading - Downloading input data\n",
      "2021-02-18 22:34:27 Training - Downloading the training image......\n",
      "2021-02-18 22:35:23 Uploading - Uploading generated training model\u001b[34mINFO:sagemaker-containers:Imported framework sagemaker_xgboost_container.training\u001b[0m\n",
      "\u001b[34mINFO:sagemaker-containers:Failed to parse hyperparameter objective value binary:logistic to Json.\u001b[0m\n",
      "\u001b[34mReturning the value itself\u001b[0m\n",
      "\u001b[34mINFO:sagemaker-containers:No GPUs detected (normal if no gpus installed)\u001b[0m\n",
      "\u001b[34mINFO:sagemaker_xgboost_container.training:Running XGBoost Sagemaker in algorithm mode\u001b[0m\n",
      "\u001b[34mINFO:root:Determined delimiter of CSV input is ','\u001b[0m\n",
      "\u001b[34mINFO:root:Determined delimiter of CSV input is ','\u001b[0m\n",
      "\u001b[34mINFO:root:Determined delimiter of CSV input is ','\u001b[0m\n",
      "\u001b[34m[22:35:19] 5224x15 matrix with 78360 entries loaded from /opt/ml/input/data/train?format=csv&label_column=0&delimiter=,\u001b[0m\n",
      "\u001b[34mINFO:root:Determined delimiter of CSV input is ','\u001b[0m\n",
      "\u001b[34m[22:35:19] 2239x15 matrix with 33585 entries loaded from /opt/ml/input/data/validation?format=csv&label_column=0&delimiter=,\u001b[0m\n",
      "\u001b[34mINFO:root:Single node training.\u001b[0m\n",
      "\u001b[34mINFO:root:Train matrix has 5224 rows\u001b[0m\n",
      "\u001b[34mINFO:root:Validation matrix has 2239 rows\u001b[0m\n",
      "\u001b[34m[22:35:19] WARNING: /workspace/src/learner.cc:328: \u001b[0m\n",
      "\u001b[34mParameters: { num_round } might not be used.\n",
      "\n",
      "  This may not be accurate due to some parameters are only used in language bindings but\n",
      "  passed down to XGBoost core.  Or some parameters are not used but slip through this\n",
      "  verification. Please open an issue if you find above cases.\n",
      "\n",
      "\u001b[0m\n",
      "\u001b[34m[0]#011train-error:0.24119#011validation-error:0.26574\u001b[0m\n",
      "\u001b[34m[1]#011train-error:0.23871#011validation-error:0.24877\u001b[0m\n",
      "\u001b[34m[2]#011train-error:0.23086#011validation-error:0.24029\u001b[0m\n",
      "\u001b[34m[3]#011train-error:0.22952#011validation-error:0.24207\u001b[0m\n",
      "\u001b[34m[4]#011train-error:0.22837#011validation-error:0.24163\u001b[0m\n",
      "\u001b[34m[5]#011train-error:0.22607#011validation-error:0.24029\u001b[0m\n",
      "\u001b[34m[6]#011train-error:0.22320#011validation-error:0.23850\u001b[0m\n",
      "\u001b[34m[7]#011train-error:0.22282#011validation-error:0.23359\u001b[0m\n",
      "\u001b[34m[8]#011train-error:0.22224#011validation-error:0.23448\u001b[0m\n",
      "\u001b[34m[9]#011train-error:0.21937#011validation-error:0.23225\u001b[0m\n",
      "\u001b[34m[10]#011train-error:0.22186#011validation-error:0.23225\u001b[0m\n",
      "\u001b[34m[11]#011train-error:0.22014#011validation-error:0.23225\u001b[0m\n",
      "\u001b[34m[12]#011train-error:0.21899#011validation-error:0.23180\u001b[0m\n",
      "\u001b[34m[13]#011train-error:0.22014#011validation-error:0.23493\u001b[0m\n",
      "\u001b[34m[14]#011train-error:0.22110#011validation-error:0.23180\u001b[0m\n",
      "\u001b[34m[15]#011train-error:0.22090#011validation-error:0.23537\u001b[0m\n",
      "\u001b[34m[16]#011train-error:0.21765#011validation-error:0.23314\u001b[0m\n",
      "\u001b[34m[17]#011train-error:0.21440#011validation-error:0.23001\u001b[0m\n",
      "\u001b[34m[18]#011train-error:0.21363#011validation-error:0.23135\u001b[0m\n",
      "\u001b[34m[19]#011train-error:0.21363#011validation-error:0.22912\u001b[0m\n",
      "\u001b[34m[20]#011train-error:0.21420#011validation-error:0.22912\u001b[0m\n",
      "\u001b[34m[21]#011train-error:0.21593#011validation-error:0.23091\u001b[0m\n",
      "\u001b[34m[22]#011train-error:0.21497#011validation-error:0.23180\u001b[0m\n",
      "\u001b[34m[23]#011train-error:0.21574#011validation-error:0.23180\u001b[0m\n",
      "\u001b[34m[24]#011train-error:0.21574#011validation-error:0.23180\u001b[0m\n",
      "\u001b[34m[25]#011train-error:0.21574#011validation-error:0.23493\u001b[0m\n",
      "\u001b[34m[26]#011train-error:0.21554#011validation-error:0.23403\u001b[0m\n",
      "\u001b[34m[27]#011train-error:0.21363#011validation-error:0.23314\u001b[0m\n",
      "\u001b[34m[28]#011train-error:0.21267#011validation-error:0.23269\u001b[0m\n",
      "\u001b[34m[29]#011train-error:0.21210#011validation-error:0.23269\u001b[0m\n",
      "\u001b[34m[30]#011train-error:0.21210#011validation-error:0.23225\u001b[0m\n",
      "\u001b[34m[31]#011train-error:0.21191#011validation-error:0.23180\u001b[0m\n",
      "\u001b[34m[32]#011train-error:0.21057#011validation-error:0.23135\u001b[0m\n",
      "\u001b[34m[33]#011train-error:0.20961#011validation-error:0.23091\u001b[0m\n",
      "\u001b[34m[34]#011train-error:0.20999#011validation-error:0.22957\u001b[0m\n",
      "\u001b[34m[35]#011train-error:0.20731#011validation-error:0.23046\u001b[0m\n",
      "\u001b[34m[36]#011train-error:0.20731#011validation-error:0.23225\u001b[0m\n",
      "\u001b[34m[37]#011train-error:0.20521#011validation-error:0.22867\u001b[0m\n",
      "\u001b[34m[38]#011train-error:0.20597#011validation-error:0.22867\u001b[0m\n",
      "\u001b[34m[39]#011train-error:0.20521#011validation-error:0.22912\u001b[0m\n",
      "\u001b[34m[40]#011train-error:0.20367#011validation-error:0.23091\u001b[0m\n",
      "\u001b[34m[41]#011train-error:0.20387#011validation-error:0.23135\u001b[0m\n",
      "\u001b[34m[42]#011train-error:0.20329#011validation-error:0.23180\u001b[0m\n",
      "\u001b[34m[43]#011train-error:0.20291#011validation-error:0.23180\u001b[0m\n",
      "\u001b[34m[44]#011train-error:0.20195#011validation-error:0.23314\u001b[0m\n",
      "\u001b[34m[45]#011train-error:0.20291#011validation-error:0.23403\u001b[0m\n",
      "\u001b[34m[46]#011train-error:0.20157#011validation-error:0.23582\u001b[0m\n",
      "\u001b[34m[47]#011train-error:0.20100#011validation-error:0.23537\u001b[0m\n",
      "\u001b[34m[48]#011train-error:0.20061#011validation-error:0.23582\u001b[0m\n",
      "\u001b[34m[49]#011train-error:0.20100#011validation-error:0.23716\u001b[0m\n",
      "\n",
      "2021-02-18 22:35:53 Completed - Training job completed\n",
      "Training seconds: 71\n",
      "Billable seconds: 32\n",
      "Managed Spot Training savings: 54.9%\n"
     ]
    }
   ],
   "source": [
    "estimator.fit({'train':s3_input_train, 'validation':s3_input_test})"
   ]
  },
  {
   "cell_type": "markdown",
   "id": "classified-herald",
   "metadata": {},
   "source": [
    "# Deploying ML Model:"
   ]
  },
  {
   "cell_type": "code",
   "execution_count": 27,
   "id": "powered-finnish",
   "metadata": {},
   "outputs": [
    {
     "name": "stdout",
     "output_type": "stream",
     "text": [
      "---------------!"
     ]
    }
   ],
   "source": [
    "xgb_predictor = estimator.deploy(initial_instance_count=1,instance_type='ml.m4.xlarge')"
   ]
  },
  {
   "cell_type": "code",
   "execution_count": null,
   "id": "fleet-channel",
   "metadata": {},
   "outputs": [],
   "source": []
  },
  {
   "cell_type": "code",
   "execution_count": null,
   "id": "associate-bernard",
   "metadata": {},
   "outputs": [],
   "source": []
  }
 ],
 "metadata": {
  "kernelspec": {
   "display_name": "conda_python3",
   "language": "python",
   "name": "conda_python3"
  },
  "language_info": {
   "codemirror_mode": {
    "name": "ipython",
    "version": 3
   },
   "file_extension": ".py",
   "mimetype": "text/x-python",
   "name": "python",
   "nbconvert_exporter": "python",
   "pygments_lexer": "ipython3",
   "version": "3.6.10"
  }
 },
 "nbformat": 4,
 "nbformat_minor": 5
}
